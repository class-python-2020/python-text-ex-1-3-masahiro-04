{
 "metadata": {
  "language_info": {
   "codemirror_mode": {
    "name": "ipython",
    "version": 3
   },
   "file_extension": ".py",
   "mimetype": "text/x-python",
   "name": "python",
   "nbconvert_exporter": "python",
   "pygments_lexer": "ipython3",
   "version": "3.8.2-final"
  },
  "orig_nbformat": 2,
  "kernelspec": {
   "name": "python_defaultSpec_1597976292153",
   "display_name": "Python 3.8.2 32-bit"
  }
 },
 "nbformat": 4,
 "nbformat_minor": 2,
 "cells": [
  {
   "cell_type": "code",
   "execution_count": 1,
   "metadata": {
    "tags": []
   },
   "outputs": [
    {
     "output_type": "stream",
     "name": "stdout",
     "text": "例外Aが発生しました\n"
    }
   ],
   "source": [
    "class ExceptA(Exception):\n",
    "    def __str__(self):\n",
    "        return \"例外Aが発生しました\"\n",
    "\n",
    "try:\n",
    "    raise ExceptA()\n",
    "except ExceptA as ea:\n",
    "    print(ea)\n",
    "except:\n",
    "    print('Unexpected Error:', sys.exc_info())"
   ]
  },
  {
   "cell_type": "code",
   "execution_count": 2,
   "metadata": {
    "tags": []
   },
   "outputs": [
    {
     "output_type": "stream",
     "name": "stdout",
     "text": "値の取りうる範囲を超えています100 101 10000 \n"
    },
    {
     "output_type": "execute_result",
     "data": {
      "text/plain": "10000"
     },
     "metadata": {},
     "execution_count": 2
    }
   ],
   "source": [
    "import sys\n",
    "\n",
    "class MyValueLimitError(Exception):\n",
    "    def __init__(self, x1, x2, limit_number):\n",
    "        self.x1 = x1\n",
    "        self.x2 = x2\n",
    "        self.limit_number = limit_number\n",
    "\n",
    "    def __str__(self):\n",
    "        return '値の取りうる範囲を超えています{0} {1} {2} '.format(self.x1, \n",
    "        self.x2, self.limit_number)\n",
    "\n",
    "def multiplication_limit(x1, x2, limit_number):\n",
    "    try:\n",
    "        x = x1 * x2\n",
    "        if x > limit_number:\n",
    "            raise MyValueLimitError(x1, x2, limit_number)\n",
    "        return x\n",
    "    except MyValueLimitError as vle:\n",
    "        print(vle)\n",
    "        return limit_number\n",
    "    except:\n",
    "        print('Unexpected Error:', sys.exc_info())\n",
    "        return None\n",
    "\n",
    "limit_number = 10000\n",
    "multiplication_limit(100, 101, limit_number)"
   ]
  },
  {
   "cell_type": "code",
   "execution_count": 3,
   "metadata": {
    "tags": []
   },
   "outputs": [
    {
     "output_type": "stream",
     "name": "stdout",
     "text": "辞書にkeyが登録されていません 5\n5 purple をmy_dictに追加しました\n"
    },
    {
     "output_type": "execute_result",
     "data": {
      "text/plain": "'purple'"
     },
     "metadata": {},
     "execution_count": 3
    }
   ],
   "source": [
    "color_reference = {1: 'red', 2: 'blue', 3: 'yellow', 4: 'green', 5: 'purple'}\n",
    "\n",
    "class MyDictKeyError(Exception):\n",
    "    def __init__(self, key):\n",
    "        self.key = key\n",
    "    def __str__(self):\n",
    "        return '辞書にkeyが登録されていません {0}'.format(self.key)\n",
    "\n",
    "def get_dict_value(dict_tbl, key):\n",
    "    if key not in dict_tbl:\n",
    "        raise MyDictKeyError(key)\n",
    "    else:\n",
    "        return dict_tbl[key]\n",
    "\n",
    "my_dict = {1: 'red', 2: 'blue', 3: 'yellow'}\n",
    "\n",
    "try:\n",
    "    my_color = get_dict_value(my_dict, 5)\n",
    "except MyDictKeyError as err:\n",
    "    print(err)\n",
    "    key = err.args[0]\n",
    "    my_dict[key] = color_reference[key]\n",
    "    print(key, color_reference[key], 'をmy_dictに追加しました')\n",
    "    my_color = color_reference[key]\n",
    "\n",
    "my_color"
   ]
  },
  {
   "cell_type": "code",
   "execution_count": 4,
   "metadata": {
    "tags": []
   },
   "outputs": [
    {
     "output_type": "stream",
     "name": "stdout",
     "text": "Try     +++++++++++++++++++++++\nException +++++++++++++++++++++\ntest_list [0, 1, 2, 3, 4, 5, 6, 7, 8, 9, 10]\n\nFinally +++++++++++++++++++++++\ntest_list [0, 1, 2, 3, 4, 5, 6, 7, 8, 9, 10]\nfinally: clear test_list complete\ntest_list []\n"
    }
   ],
   "source": [
    "def generate_intlist(x):\n",
    "    test_list = []\n",
    "    try:\n",
    "        print('Try     +++++++++++++++++++++++')\n",
    "        for i in range(x):\n",
    "            test_list.append(i)\n",
    "            if i == 10:\n",
    "                raise Exception()\n",
    "        print(test_list)\n",
    "    except Exception as inst:\n",
    "        print('Exception +++++++++++++++++++++')\n",
    "        print('test_list', test_list)\n",
    "        print(inst)\n",
    "    else:\n",
    "        print('Normal Fin ++++++++++++++++++++')\n",
    "    finally:\n",
    "        print('Finally +++++++++++++++++++++++')\n",
    "        print('test_list', test_list)\n",
    "        test_list.clear()\n",
    "        print('finally: clear test_list complete')\n",
    "        print('test_list', test_list)\n",
    "\n",
    "test_list = []\n",
    "generate_intlist(100)"
   ]
  },
  {
   "cell_type": "code",
   "execution_count": 9,
   "metadata": {},
   "outputs": [],
   "source": [
    "class ListInfo:\n",
    "    def __init__(self, my_list):\n",
    "        print('__init__')\n",
    "        self.my_list = my_list\n",
    "\n",
    "    def __enter__(self):\n",
    "        print('__enter__')\n",
    "        return self\n",
    "\n",
    "    def nth(self, n):\n",
    "        return self.my_list[n]\n",
    "\n",
    "    def __exit__(self, exc_type, exc_value, traceback):\n",
    "        print('__exit__')\n",
    "        self.my_list.clear()\n",
    "        print('    exc_type : ', exc_type)\n",
    "        print('    exc_value: ', exc_value)\n",
    "        print('    traceback: ', traceback)\n",
    "        return True"
   ]
  },
  {
   "cell_type": "code",
   "execution_count": 10,
   "metadata": {
    "tags": []
   },
   "outputs": [
    {
     "output_type": "stream",
     "name": "stdout",
     "text": "__init__\n__enter__\nnth_inf: a\n__exit__\n    exc_type :  None\n    exc_value:  None\n    traceback:  None\n[]\n"
    }
   ],
   "source": [
    "my_list = ['a', 'b', 'c', 'd', 'e']\n",
    "with ListInfo(my_list) as li:\n",
    "    print('nth_inf:', li.nth(0))\n",
    "print(my_list)"
   ]
  },
  {
   "cell_type": "code",
   "execution_count": 11,
   "metadata": {
    "tags": []
   },
   "outputs": [
    {
     "output_type": "stream",
     "name": "stdout",
     "text": "__init__\n__enter__\n__exit__\n    exc_type :  <class 'IndexError'>\n    exc_value:  list index out of range\n    traceback:  <traceback object at 0x06EB8328>\n[]\n"
    }
   ],
   "source": [
    "my_list = ['a', 'b', 'c', 'd', 'e']\n",
    "with ListInfo(my_list) as li:\n",
    "    print('nth_inf:', li.nth(10))\n",
    "print(my_list)"
   ]
  },
  {
   "cell_type": "code",
   "execution_count": 12,
   "metadata": {
    "tags": []
   },
   "outputs": [
    {
     "output_type": "stream",
     "name": "stdout",
     "text": "Hello out_test.txt"
    }
   ],
   "source": [
    "fname = 'out_test.txt'\n",
    "s = 'Hello out_test.txt'\n",
    "with open(fname, 'w') as f:\n",
    "    f.write(s)\n",
    "\n",
    "with open(fname, 'r') as f:\n",
    "    for line in f:\n",
    "        print(line, end=\"\")"
   ]
  },
  {
   "cell_type": "code",
   "execution_count": 13,
   "metadata": {
    "tags": []
   },
   "outputs": [
    {
     "output_type": "stream",
     "name": "stdout",
     "text": "try\nfinally\n"
    }
   ],
   "source": [
    "def test_function():\n",
    "    try:\n",
    "        print('try')\n",
    "        return\n",
    "    except:\n",
    "        print('except')\n",
    "    else:\n",
    "        print('else')\n",
    "    finally:\n",
    "        print('finally')\n",
    "\n",
    "test_function()"
   ]
  },
  {
   "cell_type": "code",
   "execution_count": null,
   "metadata": {},
   "outputs": [],
   "source": []
  }
 ]
}