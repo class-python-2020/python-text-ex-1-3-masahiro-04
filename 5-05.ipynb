{
 "metadata": {
  "language_info": {
   "codemirror_mode": {
    "name": "ipython",
    "version": 3
   },
   "file_extension": ".py",
   "mimetype": "text/x-python",
   "name": "python",
   "nbconvert_exporter": "python",
   "pygments_lexer": "ipython3",
   "version": "3.8.2-final"
  },
  "orig_nbformat": 2,
  "kernelspec": {
   "name": "python_defaultSpec_1597479196510",
   "display_name": "Python 3.8.2 32-bit"
  }
 },
 "nbformat": 4,
 "nbformat_minor": 2,
 "cells": [
  {
   "cell_type": "code",
   "execution_count": 1,
   "metadata": {},
   "outputs": [
    {
     "output_type": "execute_result",
     "data": {
      "text/plain": "{'Fukuoka', 'Nagoya', 'Osaka', 'Sapporo', 'Sendai', 'Tokyo'}"
     },
     "metadata": {},
     "execution_count": 1
    }
   ],
   "source": [
    "bigcity_of_japan = {'Sapporo', 'Sendai', 'Tokyo', 'Nagoya', 'Osaka', 'Fukuoka'}\n",
    "bigcity_of_japan"
   ]
  },
  {
   "cell_type": "code",
   "execution_count": 2,
   "metadata": {},
   "outputs": [
    {
     "output_type": "execute_result",
     "data": {
      "text/plain": "{'Fukuoka', 'Nagoya', 'Osaka', 'Sapporo', 'Sendai', 'Tokyo'}"
     },
     "metadata": {},
     "execution_count": 2
    }
   ],
   "source": [
    "bigcity_of_japan = {'Sapporo', 'Sendai', 'Tokyo', 'Nagoya', 'Osaka', 'Fukuoka', 'Osaka'}\n",
    "bigcity_of_japan"
   ]
  },
  {
   "cell_type": "code",
   "execution_count": 3,
   "metadata": {},
   "outputs": [
    {
     "output_type": "execute_result",
     "data": {
      "text/plain": "{'A', 'B', 'C', 'D', 'E', 'F'}"
     },
     "metadata": {},
     "execution_count": 3
    }
   ],
   "source": [
    "set_a = set('ABCDEF')\n",
    "set_a"
   ]
  },
  {
   "cell_type": "code",
   "execution_count": 4,
   "metadata": {},
   "outputs": [
    {
     "output_type": "execute_result",
     "data": {
      "text/plain": "{'A', 'B', 'C', 'D', 'E', 'F', 'G'}"
     },
     "metadata": {},
     "execution_count": 4
    }
   ],
   "source": [
    "set_a.add('G')\n",
    "set_a"
   ]
  },
  {
   "cell_type": "code",
   "execution_count": 5,
   "metadata": {},
   "outputs": [
    {
     "output_type": "execute_result",
     "data": {
      "text/plain": "{'A', 'B', 'C', 'D', 'E', 'F', 'G'}"
     },
     "metadata": {},
     "execution_count": 5
    }
   ],
   "source": [
    "set_a.add('A')\n",
    "set_a"
   ]
  },
  {
   "cell_type": "code",
   "execution_count": 6,
   "metadata": {},
   "outputs": [
    {
     "output_type": "execute_result",
     "data": {
      "text/plain": "{'A', 'B', 'C', 'D', 'E', 'F'}"
     },
     "metadata": {},
     "execution_count": 6
    }
   ],
   "source": [
    "set_a.remove('G')\n",
    "set_a"
   ]
  },
  {
   "cell_type": "code",
   "execution_count": 7,
   "metadata": {},
   "outputs": [],
   "source": [
    "x = 'K'\n",
    "set_a.discard(x)"
   ]
  },
  {
   "cell_type": "code",
   "execution_count": 8,
   "metadata": {},
   "outputs": [
    {
     "output_type": "execute_result",
     "data": {
      "text/plain": "'A'"
     },
     "metadata": {},
     "execution_count": 8
    }
   ],
   "source": [
    "set_a.pop()"
   ]
  },
  {
   "cell_type": "code",
   "execution_count": 9,
   "metadata": {},
   "outputs": [
    {
     "output_type": "execute_result",
     "data": {
      "text/plain": "'C'"
     },
     "metadata": {},
     "execution_count": 9
    }
   ],
   "source": [
    "set_a.pop()"
   ]
  },
  {
   "cell_type": "code",
   "execution_count": 10,
   "metadata": {},
   "outputs": [
    {
     "output_type": "execute_result",
     "data": {
      "text/plain": "{'B', 'D', 'E', 'F'}"
     },
     "metadata": {},
     "execution_count": 10
    }
   ],
   "source": [
    "set_a"
   ]
  },
  {
   "cell_type": "code",
   "execution_count": 11,
   "metadata": {},
   "outputs": [
    {
     "output_type": "execute_result",
     "data": {
      "text/plain": "set()"
     },
     "metadata": {},
     "execution_count": 11
    }
   ],
   "source": [
    "set_a.clear()\n",
    "set_a"
   ]
  },
  {
   "cell_type": "code",
   "execution_count": 12,
   "metadata": {},
   "outputs": [
    {
     "output_type": "execute_result",
     "data": {
      "text/plain": "{4, 9, 25, 49, 121, 169}"
     },
     "metadata": {},
     "execution_count": 12
    }
   ],
   "source": [
    "prime = {2, 3, 5, 7, 11, 13}\n",
    "prime_square = {x**2 for x in prime}\n",
    "prime_square"
   ]
  },
  {
   "cell_type": "code",
   "execution_count": 14,
   "metadata": {},
   "outputs": [
    {
     "output_type": "execute_result",
     "data": {
      "text/plain": "{frozenset({0}),\n frozenset({0, 1}),\n frozenset({0, 1, 2}),\n frozenset({0, 1, 2, 3}),\n frozenset({0, 1, 2, 3, 4}),\n frozenset({0, 1, 2, 3, 4, 5}),\n frozenset({0, 1, 2, 3, 4, 5, 6}),\n frozenset({0, 1, 2, 3, 4, 5, 6, 7}),\n frozenset({0, 1, 2, 3, 4, 5, 6, 7, 8})}"
     },
     "metadata": {},
     "execution_count": 14
    }
   ],
   "source": [
    "{frozenset({j%i for j in range(1, 10)}) for i in range(1, 10)}"
   ]
  },
  {
   "cell_type": "code",
   "execution_count": 16,
   "metadata": {},
   "outputs": [
    {
     "output_type": "execute_result",
     "data": {
      "text/plain": "{'c'}"
     },
     "metadata": {},
     "execution_count": 16
    }
   ],
   "source": [
    "a = {x for x in 'abcabcabc' if x not in 'ab'}\n",
    "a"
   ]
  },
  {
   "cell_type": "code",
   "execution_count": 17,
   "metadata": {
    "tags": []
   },
   "outputs": [
    {
     "output_type": "stream",
     "name": "stdout",
     "text": "{1, 3, 5, 7, 9, 11, 13, 15, 17, 19}\n"
    }
   ],
   "source": [
    "A = {x for x in range(21) if x % 2 ==1}\n",
    "print(A)"
   ]
  },
  {
   "cell_type": "code",
   "execution_count": 18,
   "metadata": {},
   "outputs": [
    {
     "output_type": "execute_result",
     "data": {
      "text/plain": "{frozenset({1, 3, 5, 7, 9}): 'odd'}"
     },
     "metadata": {},
     "execution_count": 18
    }
   ],
   "source": [
    "{frozenset([1, 3, 5, 7, 9, ]):'odd'}"
   ]
  },
  {
   "cell_type": "code",
   "execution_count": null,
   "metadata": {},
   "outputs": [],
   "source": []
  }
 ]
}